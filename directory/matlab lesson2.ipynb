{
 "cells": [
  {
   "cell_type": "markdown",
   "metadata": {},
   "source": [
    "# MATLAB的脚本\n",
    "\n",
    "注意，课程笔记与拓展在此文件，但是关于课上的课件在lesson1中（我懒得将模块新调进入另一个模块之中了）"
   ]
  },
  {
   "cell_type": "markdown",
   "metadata": {},
   "source": [
    "### 文件格式注意\n",
    "文件名称.m"
   ]
  },
  {
   "cell_type": "markdown",
   "metadata": {},
   "source": [
    "### 如何创建.m文件（m文件就是脚本）\n",
    "（1）在当前工作目录（当前文件夹），右键—新建文件—脚本；\n",
    "\n",
    "（2）上方菜单栏功能区—主页—新建脚本；\n",
    "\n",
    "（3）在命令行窗口，使用edit命令；&gt;&gt;edit  %新建未命名脚本文件&gt;&gt;edit wenjianming  %新建文件名为wenjianming的脚本文件\n",
    "\n",
    "\n",
    "赘述过于麻烦，放个csdn链接在这：\n",
    "\n",
    "[matlab自学笔记，关于创建脚本，运行脚本，注释，语法高亮，变成好习惯](】https://blog.csdn.net/freexyn/article/details/126943555?sharetype=blog&shareId=126943555&sharerefer=APP&sharesource=2401_89611133&sharefrom=link)"
   ]
    "注意：在使用matlab编写程序时，请打开编辑器，这样可以方便你修改你的代码\n"
  },
  {
   "cell_type": "markdown",
   "metadata": {},
   "source": [
    "### 何为脚本\n",
    "一串带有*先后顺序*的指令，这些指令被编写为程序，脚本就是程序"
   ]
  },
  {
   "cell_type": "markdown",
   "metadata": {},
   "source": [
    "### 注释问题\n",
    "\n",
    "对于课件上给的而言，注释一定是单行的 %号在行首（详情看lesson1去）\n",
    "\n",
    "重点想说的是在写题时，要标明\n",
    "% quad 1\n",
    "% solve什么题"
   ]
  },
  {
   "cell_type": "markdown",
   "metadata": {},
   "source": [
    "### 分号问题\n",
    "又在lesson1，自查"
   ]
  },
  {
   "cell_type": "markdown",
   "metadata": {},
   "source": [
    "### 赋值语句\n",
    "是和py或者C语言相同\n",
    "\n",
    "等式右边可以是数，也可以是一个式子，那么在赋值语句中，是等号右边（rhs）先计算，求出值来再赋给左侧变量（lhs）\n",
    "\n",
    "**rhs中的变量，必须事先有值能赋给它**"
   ]
  },
  {
   "cell_type": "markdown",
   "metadata": {},
   "source": [
    "### 一元三次方程作业代码\n",
    "如果直接看的话，代码没有换行，请在GitHub中点击编辑，但是不要删除其他相关，thankyou\n"
    "\n",
    "`a=1;b=2;c=3;d=4;\n",
    "delta_0=b^2-3*a*c;\n",
    "delta_1=2*b^3-9*a*b*c+27*a^2*d;\n",
    "if delta_0==0 && delta_1==0\n",
    "x=-b/(3*a);\n",
    "roots=[x,x,x];\n",
    "return;\n",
    "end\n",
    "sqrt_0 = sqrt(delta_1^2-4*delta_0^3);\n",
    "sqrt_1 = (delta_1 + sqrt_0)/2;\n",
    "if sqrt_1 == 0\n",
    "    sqrt_1 = (delta_1 -sqrt_0)/2;\n",
    "end\n",
    "C= nthroot(sqrt_1,3);\n",
    "if isreal(sqrt_1) && sqrt_1<0\n",
    "    C= -nthroot( -sqrt_1,3);\n",
    "else \n",
    "    C = sqrt_1^(1/3);\n",
    "end\n",
    "base_1 =-1/(3*a)*b;\n",
    "base_2 = -1*C/(3*a);\n",
    "base_3 = (-1)*delta_0/(3*a*C);\n",
    "xi_1 = (-1+1i*sqrt(3))/2;\n",
    "xi_2 = (-1-1i*sqrt(3))/2;\n",
    "x_1= base_1 + base_2+ base_3;\n",
    "x_2= base_1 + base_2*xi_1+ base_3/xi_1;\n",
    "x_3= base_1 + base_2*xi_2+ base_3/xi_2;\n",
    "roots=[x_1,x_2,x_3]`"
   ]
  }
 ],
 "metadata": {
  "language_info": {
   "name": "python"
  }
 },
 "nbformat": 4,
 "nbformat_minor": 2
}
