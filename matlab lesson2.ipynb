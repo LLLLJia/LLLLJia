{
 "cells": [
  {
   "cell_type": "markdown",
   "metadata": {},
   "source": [
    "# MATLAB的脚本\n",
    "\n",
    "注意，课程笔记与拓展在此文件，但是关于课上的课件在lesson1中（我懒得将模块新调进入另一个模块之中了）"
   ]
  },
  {
   "cell_type": "markdown",
   "metadata": {},
   "source": [
    "### 文件格式注意\n",
    "文件名称.m"
   ]
  },
  {
   "cell_type": "markdown",
   "metadata": {},
   "source": [
    "### 何为脚本\n",
    "一串带有*先后顺序*的指令，这些指令被编写为程序，脚本就是程序"
   ]
  },
  {
   "cell_type": "markdown",
   "metadata": {},
   "source": [
    "### 注释问题\n",
    "\n",
    "对于课件上给的而言，注释一定是单行的 %号在行首（详情看lesson1去）\n",
    "\n",
    "重点想说的是在写题时，要标明\n",
    "% quad 1\n",
    "% solve什么题"
   ]
  },
  {
   "cell_type": "markdown",
   "metadata": {},
   "source": [
    "### 分号问题\n",
    "又在lesson1，自查"
   ]
  },
  {
   "cell_type": "markdown",
   "metadata": {},
   "source": [
    "### 赋值语句\n",
    "是和py或者C语言相同\n",
    "\n",
    "等式右边可以是数，也可以是一个式子，那么在赋值语句中，是等号右边（rhs）先计算，求出值来再赋给左侧变量（lhs）\n",
    "\n",
    "**rhs中的变量，必须事先有值能赋给它**"
   ]
  }
 ],
 "metadata": {
  "language_info": {
   "name": "python"
  }
 },
 "nbformat": 4,
 "nbformat_minor": 2
}
